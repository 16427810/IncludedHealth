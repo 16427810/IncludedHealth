{
 "cells": [
  {
   "cell_type": "code",
   "execution_count": 1,
   "id": "97a3d66d-ac0f-4d9e-af6f-226e4d4f8732",
   "metadata": {
    "scrolled": true
   },
   "outputs": [],
   "source": [
    "import pandas as pd\n",
    "import numpy as np\n",
    "import matplotlib.pyplot as plt\n",
    "import warnings\n",
    "warnings.filterwarnings(\"ignore\", category=UserWarning, module=\"openpyxl\")"
   ]
  },
  {
   "cell_type": "markdown",
   "id": "1c56edb2-67c5-4b99-b03e-07209fa183c1",
   "metadata": {},
   "source": [
    "# Read data and verified shape, type and head to ensure proper loading"
   ]
  },
  {
   "cell_type": "code",
   "execution_count": 2,
   "id": "6a5f7a96-27f6-4e66-9237-e953cad22bc8",
   "metadata": {},
   "outputs": [
    {
     "data": {
      "text/plain": [
       "(15472, 3)"
      ]
     },
     "execution_count": 2,
     "metadata": {},
     "output_type": "execute_result"
    }
   ],
   "source": [
    "# Read both sheets into separate DataFrames\n",
    "\n",
    "file_path = \"/Users/maggietang/Desktop/Included Health/Maggie's Client Analytics Analysis Exercise Data.xlsx\"\n",
    "\n",
    "background_df = pd.read_excel(\n",
    "                            file_path,\n",
    "                            sheet_name=\"background\",\n",
    "                            dtype={\"teacher_id\": str}\n",
    ")\n",
    "background_df.shape"
   ]
  },
  {
   "cell_type": "code",
   "execution_count": 3,
   "id": "cae55664-e0ab-471c-aabc-8be3c3ee7ccd",
   "metadata": {},
   "outputs": [
    {
     "data": {
      "text/plain": [
       "teacher_id         object\n",
       "training_year       int64\n",
       "board_cert_year     int64\n",
       "dtype: object"
      ]
     },
     "execution_count": 3,
     "metadata": {},
     "output_type": "execute_result"
    }
   ],
   "source": [
    "background_df.dtypes"
   ]
  },
  {
   "cell_type": "code",
   "execution_count": 4,
   "id": "a1612c33-081b-4352-94fb-114780760db7",
   "metadata": {},
   "outputs": [
    {
     "data": {
      "text/html": [
       "<div>\n",
       "<style scoped>\n",
       "    .dataframe tbody tr th:only-of-type {\n",
       "        vertical-align: middle;\n",
       "    }\n",
       "\n",
       "    .dataframe tbody tr th {\n",
       "        vertical-align: top;\n",
       "    }\n",
       "\n",
       "    .dataframe thead th {\n",
       "        text-align: right;\n",
       "    }\n",
       "</style>\n",
       "<table border=\"1\" class=\"dataframe\">\n",
       "  <thead>\n",
       "    <tr style=\"text-align: right;\">\n",
       "      <th></th>\n",
       "      <th>teacher_id</th>\n",
       "      <th>training_year</th>\n",
       "      <th>board_cert_year</th>\n",
       "    </tr>\n",
       "  </thead>\n",
       "  <tbody>\n",
       "    <tr>\n",
       "      <th>0</th>\n",
       "      <td>10000831640</td>\n",
       "      <td>1970</td>\n",
       "      <td>1970</td>\n",
       "    </tr>\n",
       "    <tr>\n",
       "      <th>1</th>\n",
       "      <td>10001811121</td>\n",
       "      <td>1970</td>\n",
       "      <td>1970</td>\n",
       "    </tr>\n",
       "    <tr>\n",
       "      <th>2</th>\n",
       "      <td>10002674776</td>\n",
       "      <td>1970</td>\n",
       "      <td>1970</td>\n",
       "    </tr>\n",
       "    <tr>\n",
       "      <th>3</th>\n",
       "      <td>10003837524</td>\n",
       "      <td>1970</td>\n",
       "      <td>1970</td>\n",
       "    </tr>\n",
       "    <tr>\n",
       "      <th>4</th>\n",
       "      <td>10004856810</td>\n",
       "      <td>1970</td>\n",
       "      <td>1970</td>\n",
       "    </tr>\n",
       "  </tbody>\n",
       "</table>\n",
       "</div>"
      ],
      "text/plain": [
       "    teacher_id  training_year  board_cert_year\n",
       "0  10000831640           1970             1970\n",
       "1  10001811121           1970             1970\n",
       "2  10002674776           1970             1970\n",
       "3  10003837524           1970             1970\n",
       "4  10004856810           1970             1970"
      ]
     },
     "execution_count": 4,
     "metadata": {},
     "output_type": "execute_result"
    }
   ],
   "source": [
    "background_df.head()"
   ]
  },
  {
   "cell_type": "code",
   "execution_count": 5,
   "id": "ccf987d4-ec2f-4c00-982b-9298e4b934a6",
   "metadata": {},
   "outputs": [
    {
     "data": {
      "text/plain": [
       "(495104, 3)"
      ]
     },
     "execution_count": 5,
     "metadata": {},
     "output_type": "execute_result"
    }
   ],
   "source": [
    "# for performance sheet, since the Excel header is inconsistent (merged/misaligned), the cleanest and bulletproof way is to read \n",
    "# everything, then programmatically fix the headers and reshape it for analysis.\n",
    "\n",
    "# Step 1. Read everything as plain text\n",
    "performance_raw = pd.read_excel(file_path, sheet_name=\"performance_evaluations\", header=None)\n",
    "\n",
    "# Step 2. Fix headers\n",
    "headers = performance_raw.iloc[1].tolist()\n",
    "headers[0] = \"teacher_id\"\n",
    "performance_clean = performance_raw.iloc[2:].copy()\n",
    "performance_clean.columns = headers\n",
    "\n",
    "# Step 3. Convert to long format\n",
    "performance_df = performance_clean.melt(\n",
    "    id_vars=[\"teacher_id\"],\n",
    "    var_name=\"year\",\n",
    "    value_name=\"score\"\n",
    ")\n",
    "\n",
    "# Step 4. Clean and round\n",
    "performance_df[\"year\"] = performance_df[\"year\"].astype(int)\n",
    "performance_df[\"score\"] = pd.to_numeric(performance_df[\"score\"], errors=\"coerce\").round(2)\n",
    "\n",
    "performance_df.shape"
   ]
  },
  {
   "cell_type": "code",
   "execution_count": 6,
   "id": "514aa078-597c-4bac-a837-2e66c63c7ced",
   "metadata": {},
   "outputs": [
    {
     "data": {
      "text/plain": [
       "teacher_id     object\n",
       "year            int64\n",
       "score         float64\n",
       "dtype: object"
      ]
     },
     "execution_count": 6,
     "metadata": {},
     "output_type": "execute_result"
    }
   ],
   "source": [
    "performance_df.dtypes"
   ]
  },
  {
   "cell_type": "code",
   "execution_count": 7,
   "id": "877799ea-86db-4c0d-8308-82100bce90b6",
   "metadata": {},
   "outputs": [
    {
     "data": {
      "text/html": [
       "<div>\n",
       "<style scoped>\n",
       "    .dataframe tbody tr th:only-of-type {\n",
       "        vertical-align: middle;\n",
       "    }\n",
       "\n",
       "    .dataframe tbody tr th {\n",
       "        vertical-align: top;\n",
       "    }\n",
       "\n",
       "    .dataframe thead th {\n",
       "        text-align: right;\n",
       "    }\n",
       "</style>\n",
       "<table border=\"1\" class=\"dataframe\">\n",
       "  <thead>\n",
       "    <tr style=\"text-align: right;\">\n",
       "      <th></th>\n",
       "      <th>teacher_id</th>\n",
       "      <th>year</th>\n",
       "      <th>score</th>\n",
       "    </tr>\n",
       "  </thead>\n",
       "  <tbody>\n",
       "    <tr>\n",
       "      <th>0</th>\n",
       "      <td>10000831640</td>\n",
       "      <td>1971</td>\n",
       "      <td>45.56</td>\n",
       "    </tr>\n",
       "    <tr>\n",
       "      <th>1</th>\n",
       "      <td>10001811121</td>\n",
       "      <td>1971</td>\n",
       "      <td>49.96</td>\n",
       "    </tr>\n",
       "    <tr>\n",
       "      <th>2</th>\n",
       "      <td>10002674776</td>\n",
       "      <td>1971</td>\n",
       "      <td>71.72</td>\n",
       "    </tr>\n",
       "    <tr>\n",
       "      <th>3</th>\n",
       "      <td>10003837524</td>\n",
       "      <td>1971</td>\n",
       "      <td>82.73</td>\n",
       "    </tr>\n",
       "    <tr>\n",
       "      <th>4</th>\n",
       "      <td>10004856810</td>\n",
       "      <td>1971</td>\n",
       "      <td>67.40</td>\n",
       "    </tr>\n",
       "  </tbody>\n",
       "</table>\n",
       "</div>"
      ],
      "text/plain": [
       "    teacher_id  year  score\n",
       "0  10000831640  1971  45.56\n",
       "1  10001811121  1971  49.96\n",
       "2  10002674776  1971  71.72\n",
       "3  10003837524  1971  82.73\n",
       "4  10004856810  1971  67.40"
      ]
     },
     "execution_count": 7,
     "metadata": {},
     "output_type": "execute_result"
    }
   ],
   "source": [
    "performance_df.head()"
   ]
  },
  {
   "cell_type": "markdown",
   "id": "38504d16-15e5-4c77-ba4c-6793222ca860",
   "metadata": {},
   "source": [
    "# Check missing values and summary statistics to verify data quality\n"
   ]
  },
  {
   "cell_type": "code",
   "execution_count": 8,
   "id": "614436b7-0882-4aab-a3ec-13fc8a4ea30d",
   "metadata": {},
   "outputs": [
    {
     "data": {
      "text/plain": [
       "teacher_id         0\n",
       "training_year      0\n",
       "board_cert_year    0\n",
       "dtype: int64"
      ]
     },
     "execution_count": 8,
     "metadata": {},
     "output_type": "execute_result"
    }
   ],
   "source": [
    "background_df.isna().sum()\n",
    "\n",
    "# No missing values across all columns"
   ]
  },
  {
   "cell_type": "code",
   "execution_count": 9,
   "id": "c008ffc0-0414-4ad2-98d3-74d501a281d2",
   "metadata": {},
   "outputs": [
    {
     "data": {
      "text/html": [
       "<div>\n",
       "<style scoped>\n",
       "    .dataframe tbody tr th:only-of-type {\n",
       "        vertical-align: middle;\n",
       "    }\n",
       "\n",
       "    .dataframe tbody tr th {\n",
       "        vertical-align: top;\n",
       "    }\n",
       "\n",
       "    .dataframe thead th {\n",
       "        text-align: right;\n",
       "    }\n",
       "</style>\n",
       "<table border=\"1\" class=\"dataframe\">\n",
       "  <thead>\n",
       "    <tr style=\"text-align: right;\">\n",
       "      <th></th>\n",
       "      <th>training_year</th>\n",
       "      <th>board_cert_year</th>\n",
       "    </tr>\n",
       "  </thead>\n",
       "  <tbody>\n",
       "    <tr>\n",
       "      <th>count</th>\n",
       "      <td>15472.000000</td>\n",
       "      <td>15472.000000</td>\n",
       "    </tr>\n",
       "    <tr>\n",
       "      <th>mean</th>\n",
       "      <td>1985.144648</td>\n",
       "      <td>1985.289749</td>\n",
       "    </tr>\n",
       "    <tr>\n",
       "      <th>std</th>\n",
       "      <td>9.160278</td>\n",
       "      <td>9.237954</td>\n",
       "    </tr>\n",
       "    <tr>\n",
       "      <th>min</th>\n",
       "      <td>1970.000000</td>\n",
       "      <td>1970.000000</td>\n",
       "    </tr>\n",
       "    <tr>\n",
       "      <th>25%</th>\n",
       "      <td>1977.000000</td>\n",
       "      <td>1977.000000</td>\n",
       "    </tr>\n",
       "    <tr>\n",
       "      <th>50%</th>\n",
       "      <td>1985.000000</td>\n",
       "      <td>1985.000000</td>\n",
       "    </tr>\n",
       "    <tr>\n",
       "      <th>75%</th>\n",
       "      <td>1993.000000</td>\n",
       "      <td>1994.000000</td>\n",
       "    </tr>\n",
       "    <tr>\n",
       "      <th>max</th>\n",
       "      <td>2001.000000</td>\n",
       "      <td>2001.000000</td>\n",
       "    </tr>\n",
       "  </tbody>\n",
       "</table>\n",
       "</div>"
      ],
      "text/plain": [
       "       training_year  board_cert_year\n",
       "count   15472.000000     15472.000000\n",
       "mean     1985.144648      1985.289749\n",
       "std         9.160278         9.237954\n",
       "min      1970.000000      1970.000000\n",
       "25%      1977.000000      1977.000000\n",
       "50%      1985.000000      1985.000000\n",
       "75%      1993.000000      1994.000000\n",
       "max      2001.000000      2001.000000"
      ]
     },
     "execution_count": 9,
     "metadata": {},
     "output_type": "execute_result"
    }
   ],
   "source": [
    "background_df.describe()\n",
    "\n",
    "# Data aligns well within expected range"
   ]
  },
  {
   "cell_type": "code",
   "execution_count": 10,
   "id": "de9ea01d-a70c-4faa-9971-11cff11dec9d",
   "metadata": {},
   "outputs": [
    {
     "data": {
      "text/plain": [
       "teacher_id         0\n",
       "year               0\n",
       "score         269389\n",
       "dtype: int64"
      ]
     },
     "execution_count": 10,
     "metadata": {},
     "output_type": "execute_result"
    }
   ],
   "source": [
    "performance_df.isna().sum()\n",
    "\n",
    "# No missing values across all columns"
   ]
  },
  {
   "cell_type": "code",
   "execution_count": 11,
   "id": "c5be8c03-e255-4a9d-9aca-f42ec722d7c5",
   "metadata": {},
   "outputs": [
    {
     "data": {
      "text/html": [
       "<div>\n",
       "<style scoped>\n",
       "    .dataframe tbody tr th:only-of-type {\n",
       "        vertical-align: middle;\n",
       "    }\n",
       "\n",
       "    .dataframe tbody tr th {\n",
       "        vertical-align: top;\n",
       "    }\n",
       "\n",
       "    .dataframe thead th {\n",
       "        text-align: right;\n",
       "    }\n",
       "</style>\n",
       "<table border=\"1\" class=\"dataframe\">\n",
       "  <thead>\n",
       "    <tr style=\"text-align: right;\">\n",
       "      <th></th>\n",
       "      <th>year</th>\n",
       "      <th>score</th>\n",
       "    </tr>\n",
       "  </thead>\n",
       "  <tbody>\n",
       "    <tr>\n",
       "      <th>count</th>\n",
       "      <td>495104.000000</td>\n",
       "      <td>225715.000000</td>\n",
       "    </tr>\n",
       "    <tr>\n",
       "      <th>mean</th>\n",
       "      <td>1986.500000</td>\n",
       "      <td>69.484117</td>\n",
       "    </tr>\n",
       "    <tr>\n",
       "      <th>std</th>\n",
       "      <td>9.233102</td>\n",
       "      <td>23.402412</td>\n",
       "    </tr>\n",
       "    <tr>\n",
       "      <th>min</th>\n",
       "      <td>1971.000000</td>\n",
       "      <td>20.000000</td>\n",
       "    </tr>\n",
       "    <tr>\n",
       "      <th>25%</th>\n",
       "      <td>1978.750000</td>\n",
       "      <td>52.600000</td>\n",
       "    </tr>\n",
       "    <tr>\n",
       "      <th>50%</th>\n",
       "      <td>1986.500000</td>\n",
       "      <td>71.530000</td>\n",
       "    </tr>\n",
       "    <tr>\n",
       "      <th>75%</th>\n",
       "      <td>1994.250000</td>\n",
       "      <td>89.950000</td>\n",
       "    </tr>\n",
       "    <tr>\n",
       "      <th>max</th>\n",
       "      <td>2002.000000</td>\n",
       "      <td>100.000000</td>\n",
       "    </tr>\n",
       "  </tbody>\n",
       "</table>\n",
       "</div>"
      ],
      "text/plain": [
       "                year          score\n",
       "count  495104.000000  225715.000000\n",
       "mean     1986.500000      69.484117\n",
       "std         9.233102      23.402412\n",
       "min      1971.000000      20.000000\n",
       "25%      1978.750000      52.600000\n",
       "50%      1986.500000      71.530000\n",
       "75%      1994.250000      89.950000\n",
       "max      2002.000000     100.000000"
      ]
     },
     "execution_count": 11,
     "metadata": {},
     "output_type": "execute_result"
    }
   ],
   "source": [
    "performance_df.describe()\n",
    "\n",
    "# Data aligns well within expected range"
   ]
  },
  {
   "cell_type": "markdown",
   "id": "5502fc82-e388-4e4e-af08-fc900db03d99",
   "metadata": {},
   "source": [
    "# Merge the two datasets"
   ]
  },
  {
   "cell_type": "code",
   "execution_count": 12,
   "id": "10343f5f-6664-4a75-88ee-3fe664b289d3",
   "metadata": {},
   "outputs": [
    {
     "data": {
      "text/plain": [
       "(495104, 5)"
      ]
     },
     "execution_count": 12,
     "metadata": {},
     "output_type": "execute_result"
    }
   ],
   "source": [
    "# Merged teacher background info with yearly performance scores.\n",
    "merged_df = performance_df.merge(background_df, on=\"teacher_id\", how=\"left\")\n",
    "merged_df = merged_df.drop_duplicates()\n",
    "merged_df.shape"
   ]
  },
  {
   "cell_type": "code",
   "execution_count": 13,
   "id": "0fc33329-a893-4782-9fc0-274b0ce34bce",
   "metadata": {},
   "outputs": [
    {
     "data": {
      "text/html": [
       "<div>\n",
       "<style scoped>\n",
       "    .dataframe tbody tr th:only-of-type {\n",
       "        vertical-align: middle;\n",
       "    }\n",
       "\n",
       "    .dataframe tbody tr th {\n",
       "        vertical-align: top;\n",
       "    }\n",
       "\n",
       "    .dataframe thead th {\n",
       "        text-align: right;\n",
       "    }\n",
       "</style>\n",
       "<table border=\"1\" class=\"dataframe\">\n",
       "  <thead>\n",
       "    <tr style=\"text-align: right;\">\n",
       "      <th></th>\n",
       "      <th>teacher_id</th>\n",
       "      <th>year</th>\n",
       "      <th>score</th>\n",
       "      <th>training_year</th>\n",
       "      <th>board_cert_year</th>\n",
       "    </tr>\n",
       "  </thead>\n",
       "  <tbody>\n",
       "    <tr>\n",
       "      <th>0</th>\n",
       "      <td>10000831640</td>\n",
       "      <td>1971</td>\n",
       "      <td>45.56</td>\n",
       "      <td>1970</td>\n",
       "      <td>1970</td>\n",
       "    </tr>\n",
       "    <tr>\n",
       "      <th>1</th>\n",
       "      <td>10001811121</td>\n",
       "      <td>1971</td>\n",
       "      <td>49.96</td>\n",
       "      <td>1970</td>\n",
       "      <td>1970</td>\n",
       "    </tr>\n",
       "    <tr>\n",
       "      <th>2</th>\n",
       "      <td>10002674776</td>\n",
       "      <td>1971</td>\n",
       "      <td>71.72</td>\n",
       "      <td>1970</td>\n",
       "      <td>1970</td>\n",
       "    </tr>\n",
       "    <tr>\n",
       "      <th>3</th>\n",
       "      <td>10003837524</td>\n",
       "      <td>1971</td>\n",
       "      <td>82.73</td>\n",
       "      <td>1970</td>\n",
       "      <td>1970</td>\n",
       "    </tr>\n",
       "    <tr>\n",
       "      <th>4</th>\n",
       "      <td>10004856810</td>\n",
       "      <td>1971</td>\n",
       "      <td>67.40</td>\n",
       "      <td>1970</td>\n",
       "      <td>1970</td>\n",
       "    </tr>\n",
       "  </tbody>\n",
       "</table>\n",
       "</div>"
      ],
      "text/plain": [
       "    teacher_id  year  score  training_year  board_cert_year\n",
       "0  10000831640  1971  45.56           1970             1970\n",
       "1  10001811121  1971  49.96           1970             1970\n",
       "2  10002674776  1971  71.72           1970             1970\n",
       "3  10003837524  1971  82.73           1970             1970\n",
       "4  10004856810  1971  67.40           1970             1970"
      ]
     },
     "execution_count": 13,
     "metadata": {},
     "output_type": "execute_result"
    }
   ],
   "source": [
    "merged_df.head()"
   ]
  },
  {
   "cell_type": "code",
   "execution_count": 14,
   "id": "fbc317a3-96f8-436c-ab54-b89942539e4b",
   "metadata": {},
   "outputs": [
    {
     "data": {
      "text/html": [
       "<div>\n",
       "<style scoped>\n",
       "    .dataframe tbody tr th:only-of-type {\n",
       "        vertical-align: middle;\n",
       "    }\n",
       "\n",
       "    .dataframe tbody tr th {\n",
       "        vertical-align: top;\n",
       "    }\n",
       "\n",
       "    .dataframe thead th {\n",
       "        text-align: right;\n",
       "    }\n",
       "</style>\n",
       "<table border=\"1\" class=\"dataframe\">\n",
       "  <thead>\n",
       "    <tr style=\"text-align: right;\">\n",
       "      <th></th>\n",
       "      <th>teacher_id</th>\n",
       "      <th>score_year</th>\n",
       "      <th>score</th>\n",
       "      <th>training_year</th>\n",
       "      <th>board_cert_year</th>\n",
       "    </tr>\n",
       "  </thead>\n",
       "  <tbody>\n",
       "    <tr>\n",
       "      <th>489311</th>\n",
       "      <td>19679600995</td>\n",
       "      <td>2002</td>\n",
       "      <td>74.68</td>\n",
       "      <td>1989</td>\n",
       "      <td>1989</td>\n",
       "    </tr>\n",
       "    <tr>\n",
       "      <th>263796</th>\n",
       "      <td>10772809573</td>\n",
       "      <td>1988</td>\n",
       "      <td>55.11</td>\n",
       "      <td>1971</td>\n",
       "      <td>1971</td>\n",
       "    </tr>\n",
       "    <tr>\n",
       "      <th>197661</th>\n",
       "      <td>22164405318</td>\n",
       "      <td>1983</td>\n",
       "      <td>NaN</td>\n",
       "      <td>1994</td>\n",
       "      <td>1994</td>\n",
       "    </tr>\n",
       "    <tr>\n",
       "      <th>183183</th>\n",
       "      <td>23250313346</td>\n",
       "      <td>1982</td>\n",
       "      <td>NaN</td>\n",
       "      <td>1996</td>\n",
       "      <td>1996</td>\n",
       "    </tr>\n",
       "    <tr>\n",
       "      <th>375491</th>\n",
       "      <td>14163775931</td>\n",
       "      <td>1995</td>\n",
       "      <td>56.88</td>\n",
       "      <td>1978</td>\n",
       "      <td>1978</td>\n",
       "    </tr>\n",
       "  </tbody>\n",
       "</table>\n",
       "</div>"
      ],
      "text/plain": [
       "         teacher_id  score_year  score  training_year  board_cert_year\n",
       "489311  19679600995        2002  74.68           1989             1989\n",
       "263796  10772809573        1988  55.11           1971             1971\n",
       "197661  22164405318        1983    NaN           1994             1994\n",
       "183183  23250313346        1982    NaN           1996             1996\n",
       "375491  14163775931        1995  56.88           1978             1978"
      ]
     },
     "execution_count": 14,
     "metadata": {},
     "output_type": "execute_result"
    }
   ],
   "source": [
    "# rename col for clarity\n",
    "\n",
    "merged_df = merged_df.rename(columns = {'year': 'score_year'})\n",
    "merged_df.sample(5)"
   ]
  },
  {
   "cell_type": "markdown",
   "id": "6b61286f-df33-4b8c-a097-5af81bba9997",
   "metadata": {},
   "source": [
    "# Define who “passed on first attempt”"
   ]
  },
  {
   "cell_type": "code",
   "execution_count": 15,
   "id": "5a183f55-8199-4522-8409-f275614adc77",
   "metadata": {},
   "outputs": [
    {
     "data": {
      "text/html": [
       "<div>\n",
       "<style scoped>\n",
       "    .dataframe tbody tr th:only-of-type {\n",
       "        vertical-align: middle;\n",
       "    }\n",
       "\n",
       "    .dataframe tbody tr th {\n",
       "        vertical-align: top;\n",
       "    }\n",
       "\n",
       "    .dataframe thead th {\n",
       "        text-align: right;\n",
       "    }\n",
       "</style>\n",
       "<table border=\"1\" class=\"dataframe\">\n",
       "  <thead>\n",
       "    <tr style=\"text-align: right;\">\n",
       "      <th></th>\n",
       "      <th>teacher_id</th>\n",
       "      <th>score_year</th>\n",
       "      <th>score</th>\n",
       "      <th>training_year</th>\n",
       "      <th>board_cert_year</th>\n",
       "      <th>passed_first_attempt</th>\n",
       "    </tr>\n",
       "  </thead>\n",
       "  <tbody>\n",
       "    <tr>\n",
       "      <th>0</th>\n",
       "      <td>10000831640</td>\n",
       "      <td>1971</td>\n",
       "      <td>45.56</td>\n",
       "      <td>1970</td>\n",
       "      <td>1970</td>\n",
       "      <td>True</td>\n",
       "    </tr>\n",
       "    <tr>\n",
       "      <th>1</th>\n",
       "      <td>10001811121</td>\n",
       "      <td>1971</td>\n",
       "      <td>49.96</td>\n",
       "      <td>1970</td>\n",
       "      <td>1970</td>\n",
       "      <td>True</td>\n",
       "    </tr>\n",
       "    <tr>\n",
       "      <th>2</th>\n",
       "      <td>10002674776</td>\n",
       "      <td>1971</td>\n",
       "      <td>71.72</td>\n",
       "      <td>1970</td>\n",
       "      <td>1970</td>\n",
       "      <td>True</td>\n",
       "    </tr>\n",
       "    <tr>\n",
       "      <th>3</th>\n",
       "      <td>10003837524</td>\n",
       "      <td>1971</td>\n",
       "      <td>82.73</td>\n",
       "      <td>1970</td>\n",
       "      <td>1970</td>\n",
       "      <td>True</td>\n",
       "    </tr>\n",
       "    <tr>\n",
       "      <th>4</th>\n",
       "      <td>10004856810</td>\n",
       "      <td>1971</td>\n",
       "      <td>67.40</td>\n",
       "      <td>1970</td>\n",
       "      <td>1970</td>\n",
       "      <td>True</td>\n",
       "    </tr>\n",
       "  </tbody>\n",
       "</table>\n",
       "</div>"
      ],
      "text/plain": [
       "    teacher_id  score_year  score  training_year  board_cert_year  \\\n",
       "0  10000831640        1971  45.56           1970             1970   \n",
       "1  10001811121        1971  49.96           1970             1970   \n",
       "2  10002674776        1971  71.72           1970             1970   \n",
       "3  10003837524        1971  82.73           1970             1970   \n",
       "4  10004856810        1971  67.40           1970             1970   \n",
       "\n",
       "   passed_first_attempt  \n",
       "0                  True  \n",
       "1                  True  \n",
       "2                  True  \n",
       "3                  True  \n",
       "4                  True  "
      ]
     },
     "execution_count": 15,
     "metadata": {},
     "output_type": "execute_result"
    }
   ],
   "source": [
    "# Created flag to identify teachers who passed certification on first attempt\n",
    "\n",
    "merged_df[\"passed_first_attempt\"] = (merged_df[\"board_cert_year\"] == merged_df[\"training_year\"])\n",
    "merged_df.head()"
   ]
  },
  {
   "cell_type": "code",
   "execution_count": 16,
   "id": "41565da4-7b33-4619-9e3a-11ac5ba629be",
   "metadata": {},
   "outputs": [
    {
     "data": {
      "text/plain": [
       "passed_first_attempt\n",
       "True     429664\n",
       "False     65440\n",
       "Name: count, dtype: int64"
      ]
     },
     "execution_count": 16,
     "metadata": {},
     "output_type": "execute_result"
    }
   ],
   "source": [
    "merged_df.passed_first_attempt.value_counts()"
   ]
  },
  {
   "cell_type": "markdown",
   "id": "ebc117c2-8a8f-437f-8ae9-2d2d0918fc1d",
   "metadata": {},
   "source": [
    "# Filter for pre-1990 teachers (for Q1)"
   ]
  },
  {
   "cell_type": "code",
   "execution_count": 17,
   "id": "c3d3a5d7-3afa-4636-a786-90358ab60fbe",
   "metadata": {},
   "outputs": [
    {
     "data": {
      "text/plain": [
       "(318912, 6)"
      ]
     },
     "execution_count": 17,
     "metadata": {},
     "output_type": "execute_result"
    }
   ],
   "source": [
    "# Filtered pre-1990 teachers for baseline performance comparison.\n",
    "pre1990_df = merged_df[merged_df[\"board_cert_year\"] < 1990]\n",
    "pre1990_df.shape"
   ]
  },
  {
   "cell_type": "code",
   "execution_count": 18,
   "id": "b33ffa05-db78-4575-9735-cade5c7a25a5",
   "metadata": {},
   "outputs": [
    {
     "data": {
      "text/html": [
       "<div>\n",
       "<style scoped>\n",
       "    .dataframe tbody tr th:only-of-type {\n",
       "        vertical-align: middle;\n",
       "    }\n",
       "\n",
       "    .dataframe tbody tr th {\n",
       "        vertical-align: top;\n",
       "    }\n",
       "\n",
       "    .dataframe thead th {\n",
       "        text-align: right;\n",
       "    }\n",
       "</style>\n",
       "<table border=\"1\" class=\"dataframe\">\n",
       "  <thead>\n",
       "    <tr style=\"text-align: right;\">\n",
       "      <th></th>\n",
       "      <th>teacher_id</th>\n",
       "      <th>score_year</th>\n",
       "      <th>score</th>\n",
       "      <th>training_year</th>\n",
       "      <th>board_cert_year</th>\n",
       "      <th>passed_first_attempt</th>\n",
       "    </tr>\n",
       "  </thead>\n",
       "  <tbody>\n",
       "    <tr>\n",
       "      <th>0</th>\n",
       "      <td>10000831640</td>\n",
       "      <td>1971</td>\n",
       "      <td>45.56</td>\n",
       "      <td>1970</td>\n",
       "      <td>1970</td>\n",
       "      <td>True</td>\n",
       "    </tr>\n",
       "    <tr>\n",
       "      <th>1</th>\n",
       "      <td>10001811121</td>\n",
       "      <td>1971</td>\n",
       "      <td>49.96</td>\n",
       "      <td>1970</td>\n",
       "      <td>1970</td>\n",
       "      <td>True</td>\n",
       "    </tr>\n",
       "    <tr>\n",
       "      <th>2</th>\n",
       "      <td>10002674776</td>\n",
       "      <td>1971</td>\n",
       "      <td>71.72</td>\n",
       "      <td>1970</td>\n",
       "      <td>1970</td>\n",
       "      <td>True</td>\n",
       "    </tr>\n",
       "    <tr>\n",
       "      <th>3</th>\n",
       "      <td>10003837524</td>\n",
       "      <td>1971</td>\n",
       "      <td>82.73</td>\n",
       "      <td>1970</td>\n",
       "      <td>1970</td>\n",
       "      <td>True</td>\n",
       "    </tr>\n",
       "    <tr>\n",
       "      <th>4</th>\n",
       "      <td>10004856810</td>\n",
       "      <td>1971</td>\n",
       "      <td>67.40</td>\n",
       "      <td>1970</td>\n",
       "      <td>1970</td>\n",
       "      <td>True</td>\n",
       "    </tr>\n",
       "  </tbody>\n",
       "</table>\n",
       "</div>"
      ],
      "text/plain": [
       "    teacher_id  score_year  score  training_year  board_cert_year  \\\n",
       "0  10000831640        1971  45.56           1970             1970   \n",
       "1  10001811121        1971  49.96           1970             1970   \n",
       "2  10002674776        1971  71.72           1970             1970   \n",
       "3  10003837524        1971  82.73           1970             1970   \n",
       "4  10004856810        1971  67.40           1970             1970   \n",
       "\n",
       "   passed_first_attempt  \n",
       "0                  True  \n",
       "1                  True  \n",
       "2                  True  \n",
       "3                  True  \n",
       "4                  True  "
      ]
     },
     "execution_count": 18,
     "metadata": {},
     "output_type": "execute_result"
    }
   ],
   "source": [
    "pre1990_df.head()"
   ]
  },
  {
   "cell_type": "code",
   "execution_count": 19,
   "id": "fa924e50-bdea-4600-bd82-fcb6f1ad55c7",
   "metadata": {},
   "outputs": [
    {
     "data": {
      "text/html": [
       "<div>\n",
       "<style scoped>\n",
       "    .dataframe tbody tr th:only-of-type {\n",
       "        vertical-align: middle;\n",
       "    }\n",
       "\n",
       "    .dataframe tbody tr th {\n",
       "        vertical-align: top;\n",
       "    }\n",
       "\n",
       "    .dataframe thead th {\n",
       "        text-align: right;\n",
       "    }\n",
       "</style>\n",
       "<table border=\"1\" class=\"dataframe\">\n",
       "  <thead>\n",
       "    <tr style=\"text-align: right;\">\n",
       "      <th></th>\n",
       "      <th>passed_first_attempt</th>\n",
       "      <th>score</th>\n",
       "    </tr>\n",
       "  </thead>\n",
       "  <tbody>\n",
       "    <tr>\n",
       "      <th>0</th>\n",
       "      <td>False</td>\n",
       "      <td>60.584330</td>\n",
       "    </tr>\n",
       "    <tr>\n",
       "      <th>1</th>\n",
       "      <td>True</td>\n",
       "      <td>69.969255</td>\n",
       "    </tr>\n",
       "  </tbody>\n",
       "</table>\n",
       "</div>"
      ],
      "text/plain": [
       "   passed_first_attempt      score\n",
       "0                 False  60.584330\n",
       "1                  True  69.969255"
      ]
     },
     "execution_count": 19,
     "metadata": {},
     "output_type": "execute_result"
    }
   ],
   "source": [
    "# Calculated average performance by pass attempt flag\n",
    "\n",
    "avg_perf_pre1990 = (pre1990_df.groupby(\"passed_first_attempt\")[\"score\"].mean().reset_index())\n",
    "avg_perf_pre1990"
   ]
  },
  {
   "cell_type": "code",
   "execution_count": 20,
   "id": "e3f07716-a409-4c70-8ced-6c68e86f1308",
   "metadata": {},
   "outputs": [
    {
     "data": {
      "image/png": "[encoded data removed]",
      "text/plain": [
       "<Figure size 600x400 with 1 Axes>"
      ]
     },
     "metadata": {},
     "output_type": "display_data"
    }
   ],
   "source": [
    "# Visualized pre-1990 average performance by pass attempt flag with labels\n",
    "\n",
    "plt.figure(figsize=(6,4))\n",
    "bars = plt.bar(\n",
    "    avg_perf_pre1990[\"passed_first_attempt\"].astype(str),\n",
    "    avg_perf_pre1990[\"score\"],\n",
    "    color=[\"orange\", \"skyblue\"]\n",
    ")\n",
    "\n",
    "plt.title(\"Avg Performance (Pre-1990): Pass on First Attempt vs Later\")\n",
    "plt.xlabel(\"Passed on First Attempt\")\n",
    "plt.ylabel(\"Average Performance Score\")\n",
    "plt.ylim(0, 100)\n",
    "\n",
    "# Add value labels on top of bars\n",
    "for bar in bars:\n",
    "    height = bar.get_height()\n",
    "    plt.text(\n",
    "        bar.get_x() + bar.get_width()/2,\n",
    "        height + 1,\n",
    "        f\"{height:.1f}%\",   # display as percentage\n",
    "        ha=\"center\", va=\"bottom\", fontsize=10\n",
    "    )\n",
    "\n",
    "plt.show()"
   ]
  },
  {
   "cell_type": "markdown",
   "id": "fc5838d7-c1f0-444f-8e67-d99864c63145",
   "metadata": {},
   "source": [
    "# Answer for Q1:"
   ]
  },
  {
   "cell_type": "raw",
   "id": "a7724fed-474b-4191-bfbb-9d520645bc3c",
   "metadata": {},
   "source": [
    "-- Based on the analysis of teachers certified prior to 1990, those who passed their initial certification exams on the first attempt \n",
    "demonstrated noticeably higher performance evaluation scores during their subsequent careers.\n",
    "\n",
    "-- On average:\n",
    "•\tTeachers who passed on the first attempt scored about 69.97 points.\n",
    "•\tTeachers who required multiple attempts scored about 60.58 points.\n",
    "•\tThis reflects a roughly 9.4-point (≈15%) performance advantage among first-attempt passers.\n",
    "\n",
    "-- This difference suggests that teachers who were able to meet certification requirements on the first try tended to maintain stronger long-term teaching performance.\n",
    "\n",
    "-- It may indicate that these individuals entered the classroom with stronger foundational skills or greater preparedness, which translated into consistently higher evaluation scores over time."
   ]
  },
  {
   "cell_type": "markdown",
   "id": "98c73ccd-21f7-41c6-b6b0-748826f9a9ad",
   "metadata": {},
   "source": [
    "# Analyze post-1990 impact (for Q2)"
   ]
  },
  {
   "cell_type": "code",
   "execution_count": 21,
   "id": "bc3a5d7c-5809-43e0-b6d2-e6a8f138795c",
   "metadata": {},
   "outputs": [
    {
     "data": {
      "text/html": [
       "<div>\n",
       "<style scoped>\n",
       "    .dataframe tbody tr th:only-of-type {\n",
       "        vertical-align: middle;\n",
       "    }\n",
       "\n",
       "    .dataframe tbody tr th {\n",
       "        vertical-align: top;\n",
       "    }\n",
       "\n",
       "    .dataframe thead th {\n",
       "        text-align: right;\n",
       "    }\n",
       "</style>\n",
       "<table border=\"1\" class=\"dataframe\">\n",
       "  <thead>\n",
       "    <tr style=\"text-align: right;\">\n",
       "      <th></th>\n",
       "      <th>teacher_id</th>\n",
       "      <th>score_year</th>\n",
       "      <th>score</th>\n",
       "      <th>training_year</th>\n",
       "      <th>board_cert_year</th>\n",
       "      <th>passed_first_attempt</th>\n",
       "      <th>certification_delay</th>\n",
       "      <th>period</th>\n",
       "    </tr>\n",
       "  </thead>\n",
       "  <tbody>\n",
       "    <tr>\n",
       "      <th>236604</th>\n",
       "      <td>14524577013</td>\n",
       "      <td>1986</td>\n",
       "      <td>65.27</td>\n",
       "      <td>1979</td>\n",
       "      <td>1979</td>\n",
       "      <td>True</td>\n",
       "      <td>0</td>\n",
       "      <td>Pre-1990</td>\n",
       "    </tr>\n",
       "    <tr>\n",
       "      <th>85535</th>\n",
       "      <td>18175824107</td>\n",
       "      <td>1976</td>\n",
       "      <td>NaN</td>\n",
       "      <td>1986</td>\n",
       "      <td>1988</td>\n",
       "      <td>False</td>\n",
       "      <td>2</td>\n",
       "      <td>Pre-1990</td>\n",
       "    </tr>\n",
       "    <tr>\n",
       "      <th>434126</th>\n",
       "      <td>10910865943</td>\n",
       "      <td>1999</td>\n",
       "      <td>NaN</td>\n",
       "      <td>1971</td>\n",
       "      <td>1971</td>\n",
       "      <td>True</td>\n",
       "      <td>0</td>\n",
       "      <td>Pre-1990</td>\n",
       "    </tr>\n",
       "    <tr>\n",
       "      <th>154888</th>\n",
       "      <td>10168800719</td>\n",
       "      <td>1981</td>\n",
       "      <td>78.55</td>\n",
       "      <td>1970</td>\n",
       "      <td>1970</td>\n",
       "      <td>True</td>\n",
       "      <td>0</td>\n",
       "      <td>Pre-1990</td>\n",
       "    </tr>\n",
       "    <tr>\n",
       "      <th>70230</th>\n",
       "      <td>18342881345</td>\n",
       "      <td>1975</td>\n",
       "      <td>NaN</td>\n",
       "      <td>1986</td>\n",
       "      <td>1986</td>\n",
       "      <td>True</td>\n",
       "      <td>0</td>\n",
       "      <td>Pre-1990</td>\n",
       "    </tr>\n",
       "    <tr>\n",
       "      <th>31824</th>\n",
       "      <td>10880579390</td>\n",
       "      <td>1973</td>\n",
       "      <td>64.11</td>\n",
       "      <td>1971</td>\n",
       "      <td>1972</td>\n",
       "      <td>False</td>\n",
       "      <td>1</td>\n",
       "      <td>Pre-1990</td>\n",
       "    </tr>\n",
       "  </tbody>\n",
       "</table>\n",
       "</div>"
      ],
      "text/plain": [
       "         teacher_id  score_year  score  training_year  board_cert_year  \\\n",
       "236604  14524577013        1986  65.27           1979             1979   \n",
       "85535   18175824107        1976    NaN           1986             1988   \n",
       "434126  10910865943        1999    NaN           1971             1971   \n",
       "154888  10168800719        1981  78.55           1970             1970   \n",
       "70230   18342881345        1975    NaN           1986             1986   \n",
       "31824   10880579390        1973  64.11           1971             1972   \n",
       "\n",
       "        passed_first_attempt  certification_delay    period  \n",
       "236604                  True                    0  Pre-1990  \n",
       "85535                  False                    2  Pre-1990  \n",
       "434126                  True                    0  Pre-1990  \n",
       "154888                  True                    0  Pre-1990  \n",
       "70230                   True                    0  Pre-1990  \n",
       "31824                  False                    1  Pre-1990  "
      ]
     },
     "execution_count": 21,
     "metadata": {},
     "output_type": "execute_result"
    }
   ],
   "source": [
    "# Calculated certification delay and post-1990 performance\n",
    "\n",
    "merged_df2 = merged_df.copy()  # make a copy to work on Q2\n",
    "merged_df2[\"certification_delay\"] = (merged_df2[\"board_cert_year\"] - merged_df2[\"training_year\"])\n",
    "merged_df2[\"period\"] = merged_df2[\"board_cert_year\"].apply(lambda x: \"Pre-1990\" if x < 1990 else \"Post-1990\")\n",
    "\n",
    "merged_df2.sample(6)"
   ]
  },
  {
   "cell_type": "code",
   "execution_count": 22,
   "id": "983e6af1-97e9-44f9-90e8-25d0161a26e4",
   "metadata": {},
   "outputs": [
    {
     "name": "stdout",
     "output_type": "stream",
     "text": [
      "      period  certification_delay\n",
      "0  Post-1990                 0.30\n",
      "1   Pre-1990                 0.06\n"
     ]
    }
   ],
   "source": [
    "# Compute certification delay per teacher and average by period\n",
    "\n",
    "delay_summary = (\n",
    "    merged_df2[[\"teacher_id\", \"certification_delay\", \"period\"]]\n",
    "    .drop_duplicates(subset=\"teacher_id\")                           \n",
    "    .groupby(\"period\")[\"certification_delay\"]\n",
    "    .mean()\n",
    "    .reset_index()\n",
    ")\n",
    "\n",
    "# Round for readability\n",
    "delay_summary[\"certification_delay\"] = delay_summary[\"certification_delay\"].round(2)\n",
    "\n",
    "print(delay_summary)"
   ]
  },
  {
   "cell_type": "code",
   "execution_count": 23,
   "id": "4e4da661-c3ab-4238-8384-e2072022f761",
   "metadata": {},
   "outputs": [
    {
     "data": {
      "text/plain": [
       "certification_delay\n",
       "0    0.867826\n",
       "1    0.121316\n",
       "2    0.008919\n",
       "3    0.001810\n",
       "4    0.000129\n",
       "Name: proportion, dtype: float64"
      ]
     },
     "execution_count": 23,
     "metadata": {},
     "output_type": "execute_result"
    }
   ],
   "source": [
    "merged_df2['certification_delay'].value_counts(normalize = True)"
   ]
  },
  {
   "cell_type": "code",
   "execution_count": 24,
   "id": "753aded4-9552-402b-bdce-9695aea7340d",
   "metadata": {},
   "outputs": [
    {
     "data": {
      "text/plain": [
       "period\n",
       "Pre-1990     318912\n",
       "Post-1990    176192\n",
       "Name: count, dtype: int64"
      ]
     },
     "execution_count": 24,
     "metadata": {},
     "output_type": "execute_result"
    }
   ],
   "source": [
    "merged_df2.period.value_counts()"
   ]
  },
  {
   "cell_type": "code",
   "execution_count": 25,
   "id": "594a2744-508b-4bb7-af2f-90ea01fb0282",
   "metadata": {},
   "outputs": [
    {
     "name": "stdout",
     "output_type": "stream",
     "text": [
      "      period      score\n",
      "0  Post-1990  69.439984\n",
      "1   Pre-1990  68.865098\n"
     ]
    }
   ],
   "source": [
    "# Calculate each teacher's average performance score\n",
    "teacher_perf = (\n",
    "    merged_df2.groupby([\"teacher_id\", \"period\"])[\"score\"]\n",
    "    .mean()\n",
    "    .reset_index()\n",
    ")\n",
    "\n",
    "# Then compute overall average by period\n",
    "avg_score = teacher_perf.groupby(\"period\")[\"score\"].mean().reset_index()\n",
    "print(avg_score)"
   ]
  },
  {
   "cell_type": "markdown",
   "id": "3915e279-7a0c-499f-8616-382c0868b5b7",
   "metadata": {},
   "source": [
    "# Answer for Q2:"
   ]
  },
  {
   "cell_type": "raw",
   "id": "cb25576e-203d-4f55-aeab-9effe8f300ac",
   "metadata": {},
   "source": [
    "-- After 1990, the average certification delay increased from 0.06 years to 0.30 years, indicating that teachers took longer to obtain certification, consistent with the introduction of a more rigorous, oral-exam-based process.\n",
    "\n",
    "-- Average performance scores rose only slightly (from 68.9 to 69.4), suggesting that while the policy changes modestly improved teacher quality, the impact was limited.\n",
    "\n",
    "-- Therefore, the 1990 reforms appear to have made certification more stringent but did not lead to substantial improvements in long-term performance. Teachers’ concerns about increased burden without major benefit were somewhat justified."
   ]
  }
 ],
 "metadata": {
  "kernelspec": {
   "display_name": "Python 3 (ipykernel)",
   "language": "python",
   "name": "python3"
  },
  "language_info": {
   "codemirror_mode": {
    "name": "ipython",
    "version": 3
   },
   "file_extension": ".py",
   "mimetype": "text/x-python",
   "name": "python",
   "nbconvert_exporter": "python",
   "pygments_lexer": "ipython3",
   "version": "3.10.18"
  }
 },
 "nbformat": 4,
 "nbformat_minor": 5
}
